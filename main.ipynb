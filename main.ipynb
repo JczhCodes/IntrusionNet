{
 "cells": [
  {
   "cell_type": "markdown",
   "metadata": {},
   "source": [
    "Imports"
   ]
  },
  {
   "cell_type": "code",
   "execution_count": null,
   "metadata": {},
   "outputs": [],
   "source": [
    "from openai import OpenAI"
   ]
  },
  {
   "cell_type": "markdown",
   "metadata": {},
   "source": [
    "Initialize an instance of the `OpenAI` class, which is used to interact with OpenAI's API. This instance, referred to as `client`, will be the primary object through which we send requests and receive responses from the OpenAI service. Ensure that the OpenAI library is imported and configured with your API key before this step."
   ]
  },
  {
   "cell_type": "code",
   "execution_count": 2,
   "metadata": {},
   "outputs": [],
   "source": [
    "client = OpenAI()"
   ]
  },
  {
   "cell_type": "markdown",
   "metadata": {},
   "source": [
    "Creating an Assistant"
   ]
  },
  {
   "cell_type": "code",
   "execution_count": 3,
   "metadata": {},
   "outputs": [],
   "source": [
    "assistant = client.beta.assistants.create(\n",
    "    name=\"AI-PenTest-Tool\",\n",
    "    instructions=\"\"\"\n",
    "                You are a Cyber Security Specialist with a vast knowledge of all fields of Cyber Security. \n",
    "                You will only respond to the query with the appropriate commands needed for the pentest. \n",
    "                If a code is required, respond with just the code snippet.\n",
    "                You do not require to explain.\n",
    "                Respond with the COMMANDS ONLY.\n",
    "                1. A IP will be provided. Provide a steps for reconnaissance.\n",
    "                2. Based on the output given, Provide commands to continue.\n",
    "                \"\"\",\n",
    "    tools=[{\"type\": \"code_interpreter\"}],\n",
    "    model=\"gpt-4-turbo-preview\"\n",
    ")"
   ]
  },
  {
   "cell_type": "markdown",
   "metadata": {},
   "source": [
    "The line `thread = client.beta.threads.create()` is used to create a new conversation thread with the OpenAI API. This command initializes a thread through the `client` object, which must already be configured with OpenAI API access. The `beta.threads.create` method specifically creates a new thread, providing a unique context for a series of interactions or a conversation with the AI model. This is particularly useful for maintaining continuity in an ongoing dialogue or a series of related queries.\n"
   ]
  },
  {
   "cell_type": "code",
   "execution_count": 4,
   "metadata": {},
   "outputs": [],
   "source": [
    "thread = client.beta.threads.create()"
   ]
  },
  {
   "cell_type": "markdown",
   "metadata": {},
   "source": [
    "The code `message = client.beta.threads.messages.create(...)` is used to send a message to the OpenAI API within a previously created thread. The `thread_id` parameter specifies the unique ID of the thread to which this message belongs, ensuring continuity in the conversation. The `role` is set to \"user\" to indicate that this message is from the user's perspective. The `content` parameter contains the specific query or instruction for the AI, such as requesting actions or information related to a specified task. This approach is used for interactive and context-aware conversations with the AI model.\n"
   ]
  },
  {
   "cell_type": "code",
   "execution_count": 5,
   "metadata": {},
   "outputs": [],
   "source": [
    "message = client.beta.threads.messages.create(\n",
    "    thread_id=thread.id,\n",
    "    role=\"user\",\n",
    "    content=\"I want to pen test this machine 192.168.1.205\"\n",
    ")"
   ]
  },
  {
   "cell_type": "markdown",
   "metadata": {},
   "source": [
    "List messages in a thread"
   ]
  },
  {
   "cell_type": "code",
   "execution_count": 14,
   "metadata": {},
   "outputs": [
    {
     "name": "stdout",
     "output_type": "stream",
     "text": [
      "SyncCursorPage[ThreadMessage](data=[ThreadMessage(id='msg_sKNehFjHzNyXsK2M1KXjHPy3', assistant_id='asst_UZfJM3XaOwkEuCPZr8Bx06XD', content=[MessageContentText(text=Text(annotations=[], value='1. Ping to check if the target is up:\\n   ```\\n   ping 192.168.1.205\\n   ```\\n\\n2. Use Nmap to scan for open ports and services:\\n   ```\\n   nmap -sV -Pn 192.168.1.205\\n   ```\\n\\n3. Perform OS detection with Nmap:\\n   ```\\n   nmap -O 192.168.1.205\\n   ``` \\n\\n4. Check for vulnerabilities:\\n   ```\\n   nmap --script=vuln 192.168.1.205\\n   ```'), type='text')], created_at=1706354787, file_ids=[], metadata={}, object='thread.message', role='assistant', run_id='run_9f9mgrjjrq6QeXO59yEe5MvA', thread_id='thread_T6oFAm6E5l5wcV9BmY6yPY8P'), ThreadMessage(id='msg_jrRBsiDRB9qn5Cy4U6OAWXsq', assistant_id=None, content=[MessageContentText(text=Text(annotations=[], value='I want to pen test this machine 192.168.1.205'), type='text')], created_at=1706354639, file_ids=[], metadata={}, object='thread.message', role='user', run_id=None, thread_id='thread_T6oFAm6E5l5wcV9BmY6yPY8P')], object='list', first_id='msg_sKNehFjHzNyXsK2M1KXjHPy3', last_id='msg_jrRBsiDRB9qn5Cy4U6OAWXsq', has_more=False)\n"
     ]
    }
   ],
   "source": [
    "print(client.beta.threads.messages.list(thread_id=thread.id))"
   ]
  },
  {
   "cell_type": "markdown",
   "metadata": {},
   "source": [
    "For the Assistant to respond to the user message, you need to create a Run. This makes the Assistant read the Thread and decide whether to call tools (if they are enabled) or simply use the model to best answer the query."
   ]
  },
  {
   "cell_type": "code",
   "execution_count": 9,
   "metadata": {},
   "outputs": [],
   "source": [
    "run = client.beta.threads.runs.create(\n",
    "  thread_id=thread.id,\n",
    "  assistant_id=assistant.id,\n",
    ")"
   ]
  },
  {
   "cell_type": "code",
   "execution_count": 13,
   "metadata": {},
   "outputs": [
    {
     "name": "stdout",
     "output_type": "stream",
     "text": [
      "Run(id='run_9f9mgrjjrq6QeXO59yEe5MvA', assistant_id='asst_UZfJM3XaOwkEuCPZr8Bx06XD', cancelled_at=None, completed_at=1706354791, created_at=1706354786, expires_at=None, failed_at=None, file_ids=[], instructions='\\n                You are a Cyber Security Specialist with a vast knowledge of all fields of Cyber Security. \\n                You will only respond to the query with the appropriate commands needed for the pentest. \\n                If a code is required, respond with just the code snippet.\\n                You do not require to explain.\\n                Respond with the COMMANDS ONLY.\\n                1. A IP will be provided. Provide a steps for reconnaissance.\\n                2. Based on the output given, Provide commands to continue.\\n                ', last_error=None, metadata={}, model='gpt-4-turbo-preview', object='thread.run', required_action=None, started_at=1706354786, status='completed', thread_id='thread_T6oFAm6E5l5wcV9BmY6yPY8P', tools=[ToolAssistantToolsCode(type='code_interpreter')], usage=Usage(completion_tokens=120, prompt_tokens=224, total_tokens=344))\n"
     ]
    }
   ],
   "source": [
    "# Example of checking the run status\n",
    "run_status = client.beta.threads.runs.retrieve(run_id=run.id,thread_id=thread.id)\n",
    "print(run_status)"
   ]
  }
 ],
 "metadata": {
  "kernelspec": {
   "display_name": ".venv",
   "language": "python",
   "name": "python3"
  },
  "language_info": {
   "codemirror_mode": {
    "name": "ipython",
    "version": 3
   },
   "file_extension": ".py",
   "mimetype": "text/x-python",
   "name": "python",
   "nbconvert_exporter": "python",
   "pygments_lexer": "ipython3",
   "version": "3.11.7"
  }
 },
 "nbformat": 4,
 "nbformat_minor": 2
}
